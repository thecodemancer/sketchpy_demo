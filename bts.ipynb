{
 "cells": [
  {
   "cell_type": "code",
   "execution_count": 1,
   "metadata": {},
   "outputs": [
    {
     "name": "stdout",
     "output_type": "stream",
     "text": [
      "Requirement already satisfied: sketchpy in c:\\users\\david\\anaconda3\\lib\\site-packages (0.1.0)\n",
      "Requirement already satisfied: svg.path in c:\\users\\david\\anaconda3\\lib\\site-packages (from sketchpy) (6.2)\n",
      "Requirement already satisfied: wheel in c:\\users\\david\\anaconda3\\lib\\site-packages (from sketchpy) (0.35.1)\n",
      "Requirement already satisfied: opencv-python in c:\\users\\david\\anaconda3\\lib\\site-packages (from sketchpy) (4.7.0.68)\n",
      "Requirement already satisfied: svgpathtools in c:\\users\\david\\anaconda3\\lib\\site-packages (from sketchpy) (1.5.1)\n",
      "Requirement already satisfied: tqdm in c:\\users\\david\\anaconda3\\lib\\site-packages (from sketchpy) (4.50.2)\n",
      "Requirement already satisfied: turtle==0.0.1 in c:\\users\\david\\anaconda3\\lib\\site-packages (from sketchpy) (0.0.1)\n",
      "Requirement already satisfied: Pillow in c:\\users\\david\\anaconda3\\lib\\site-packages (from sketchpy) (8.0.1)\n",
      "Requirement already satisfied: PyYAML>=3.08 in c:\\users\\david\\anaconda3\\lib\\site-packages (from turtle==0.0.1->sketchpy) (5.3.1)\n",
      "Requirement already satisfied: numpy>=1.17.3 in c:\\users\\david\\anaconda3\\lib\\site-packages (from opencv-python->sketchpy) (1.19.2)\n",
      "Requirement already satisfied: svgwrite in c:\\users\\david\\anaconda3\\lib\\site-packages (from svgpathtools->sketchpy) (1.4.3)\n",
      "Requirement already satisfied: scipy in c:\\users\\david\\anaconda3\\lib\\site-packages (from svgpathtools->sketchpy) (1.5.2)\n"
     ]
    },
    {
     "name": "stderr",
     "output_type": "stream",
     "text": [
      "WARNING: You are using pip version 21.2.4; however, version 22.3.1 is available.\n",
      "You should consider upgrading via the 'c:\\users\\david\\anaconda3\\python.exe -m pip install --upgrade pip' command.\n"
     ]
    }
   ],
   "source": [
    "!pip install sketchpy"
   ]
  },
  {
   "cell_type": "code",
   "execution_count": 2,
   "metadata": {},
   "outputs": [],
   "source": [
    "from sketchpy import library as lib"
   ]
  },
  {
   "cell_type": "code",
   "execution_count": 3,
   "metadata": {},
   "outputs": [],
   "source": [
    "obj = lib.bts()"
   ]
  },
  {
   "cell_type": "code",
   "execution_count": 4,
   "metadata": {},
   "outputs": [],
   "source": [
    "obj.draw()"
   ]
  },
  {
   "cell_type": "markdown",
   "metadata": {},
   "source": [
    "<img src=\"images/bts.gif\" />"
   ]
  },
  {
   "cell_type": "markdown",
   "metadata": {},
   "source": [
    "---\n",
    "If you made it this far, follow [David Regalado](https://beacons.ai/davidregalado) for more code!"
   ]
  }
 ],
 "metadata": {
  "kernelspec": {
   "display_name": "Python 3",
   "language": "python",
   "name": "python3"
  },
  "language_info": {
   "codemirror_mode": {
    "name": "ipython",
    "version": 3
   },
   "file_extension": ".py",
   "mimetype": "text/x-python",
   "name": "python",
   "nbconvert_exporter": "python",
   "pygments_lexer": "ipython3",
   "version": "3.8.5"
  }
 },
 "nbformat": 4,
 "nbformat_minor": 4
}
